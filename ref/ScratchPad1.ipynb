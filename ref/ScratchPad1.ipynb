{
 "cells": [
  {
   "cell_type": "markdown",
   "metadata": {},
   "source": [
    "#https://atcoder.jp/contests/abc104/submissions/43561653"
   ]
  },
  {
   "cell_type": "code",
   "execution_count": null,
   "metadata": {},
   "outputs": [],
   "source": [
    "D, G = map(int, input().split())\n",
    "pc = [list(map(int, input().split())) for _ in range(D)]"
   ]
  },
  {
   "cell_type": "code",
   "execution_count": null,
   "metadata": {},
   "outputs": [],
   "source": [
    "pc=\"\"\"\n",
    "2 400\n",
    "3 500\n",
    "5 800\"\"\".split('\\n')\n",
    "pc=[list(map(int, a.split())) for a in pc if a!='']\n",
    "pc"
   ]
  },
  {
   "cell_type": "code",
   "execution_count": null,
   "metadata": {},
   "outputs": [],
   "source": [
    "D, G = 2, 400 \n",
    "pc=\"\"\"\n",
    "2 400\n",
    "3 500\n",
    "5 800\n",
    "\"\"\"\n",
    "pc=[list(map(int, a.split())) for a in pc.split('\\n') if a!='']\n",
    "pc"
   ]
  },
  {
   "cell_type": "code",
   "execution_count": null,
   "metadata": {},
   "outputs": [],
   "source": [
    "\n",
    "D, G = 5, 25000\n",
    "pc = [[20, 1000], [40, 1000], [50, 1000], [30, 1000], [1, 1000]]"
   ]
  },
  {
   "cell_type": "code",
   "execution_count": null,
   "metadata": {},
   "outputs": [],
   "source": [
    "D, G = 2, 700\n",
    "pc = [[3, 500], [5, 800]]"
   ]
  },
  {
   "cell_type": "code",
   "execution_count": null,
   "metadata": {},
   "outputs": [],
   "source": [
    "ans = 10 ** 9\n",
    "for i in range(2 ** D):\n",
    "    score = 0\n",
    "    cnt = 0\n",
    "    rest_max = -1\n",
    "    for j in range(D):\n",
    "        print(f'i={i:2d}, j={j:2d}, i>>j={i>>j}, (i>>j)&1={(i>>j)&1},')\n",
    "\n",
    "        p, c = pc[j]\n",
    "        if (i >> j) & 1:\n",
    "            score += 100 * (j + 1) * p + c\n",
    "            cnt += p\n",
    "        else:\n",
    "            rest_max = j\n",
    "    if score < G:\n",
    "        s1 = 100 * (rest_max + 1)\n",
    "        need = (G - score + s1 - 1) // s1\n",
    "        if need >= pc[rest_max][0]:\n",
    "            continue\n",
    "        cnt += need\n",
    "    ans = min(ans, cnt)\n",
    "\n",
    "print(ans)\n"
   ]
  },
  {
   "cell_type": "code",
   "execution_count": null,
   "metadata": {},
   "outputs": [],
   "source": []
  }
 ],
 "metadata": {
  "kernelspec": {
   "display_name": "Python 3",
   "language": "python",
   "name": "python3"
  },
  "language_info": {
   "codemirror_mode": {
    "name": "ipython",
    "version": 3
   },
   "file_extension": ".py",
   "mimetype": "text/x-python",
   "name": "python",
   "nbconvert_exporter": "python",
   "pygments_lexer": "ipython3",
   "version": "3.10.6"
  },
  "orig_nbformat": 4
 },
 "nbformat": 4,
 "nbformat_minor": 2
}
