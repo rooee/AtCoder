{
 "cells": [
  {
   "cell_type": "markdown",
   "metadata": {},
   "source": [
    "#https://atcoder.jp/contests/abc104/submissions/43561653\n",
    "\n",
    "- 答えは一つ以上の満点レベルと、ただ一つの満点ではないレベルで構成されるという仮定\n",
    "- iは0から2**Dまでのループ、つまり満点となるレベルを総当たり\n",
    "- jはiのパターンによる、満点レベルで獲得する総得点数、満点レベルに含まれない一番大きなレベルの計算に使用する補助変数。\n",
    "\n",
    "整理した上で以下で動作確認済み\n",
    "\n",
    "https://atcoder.jp/contests/abc104/submissions/43687417"
   ]
  },
  {
   "cell_type": "code",
   "execution_count": null,
   "metadata": {},
   "outputs": [],
   "source": [
    "D, G = map(int, input().split())\n",
    "pc = [list(map(int, input().split())) for _ in range(D)]"
   ]
  },
  {
   "cell_type": "code",
   "execution_count": null,
   "metadata": {},
   "outputs": [],
   "source": [
    "D, G = 2, 400 \n",
    "pc=\"\"\"\n",
    "3 500\n",
    "5 800\n",
    "\"\"\"\n",
    "pc=[list(map(int, a.split())) for a in pc.split('\\n') if a!='']\n",
    "D,G,pc"
   ]
  },
  {
   "cell_type": "code",
   "execution_count": null,
   "metadata": {},
   "outputs": [],
   "source": [
    "D, G = 5, 25000\n",
    "pc = [[20, 1000], [40, 1000], [50, 1000], [30, 1000], [1, 1000]]\n",
    "[p*(i+1)*100+c for i, (p, c) in enumerate(pc)]\n",
    "D,G,pc"
   ]
  },
  {
   "cell_type": "code",
   "execution_count": null,
   "metadata": {},
   "outputs": [],
   "source": [
    "D, G = 2, 700\n",
    "pc = [[3, 500], [5, 800]]\n",
    "D,G,pc"
   ]
  },
  {
   "cell_type": "code",
   "execution_count": null,
   "metadata": {},
   "outputs": [],
   "source": [
    "ans = 10 ** 9\n",
    "for i in range(2 ** D):\n",
    "    score, cnt, rest_max = 0, 0, -1\n",
    "    print()\n",
    "    for j in range(D):\n",
    "        p, c = pc[j]\n",
    "        if (i >> j) & 1:\n",
    "            score += 100 * (j + 1) * p + c\n",
    "            cnt += p\n",
    "        else:\n",
    "            rest_max = j\n",
    "    print(f'i={i:2d},{format(i,\"08b\"):>8}, j={j:2d}, i>>j={i>>j:2d}, (i>>j)&1={(i>>j)&1}, score={score:5d}, cnt={cnt:2d}, rest_max={rest_max:2d}')\n",
    "    if score < G:\n",
    "        s1 = 100 * (rest_max + 1)\n",
    "        need = (G - score + s1 - 1) // s1\n",
    "        print(f'i={i:2d},{format(i,\"08b\"):>8}, s1={s1:5d}, need={need:2d}, pc[rest_max][0]={pc[rest_max][0]:2d}',end='')\n",
    "        if need >= pc[rest_max][0]:\n",
    "            print()\n",
    "            continue\n",
    "        cnt += need\n",
    "    print(f', cnt={cnt:3d}, ans={ans}')\n",
    "    ans = min(ans, cnt)\n",
    "    print(f'ans={ans:3d}')\n",
    "\n",
    "print(ans)\n"
   ]
  },
  {
   "cell_type": "code",
   "execution_count": null,
   "metadata": {},
   "outputs": [],
   "source": [
    "pt=[p*(i+1)*100+c for i, (p, c) in enumerate(pc)]\n",
    "ans = 10 ** 9\n",
    "for i in range(2 ** D): # bit map for 満点をとったレベル\n",
    "    score, cnt, rest_max = 0, 0, -1\n",
    "    for j in range(D):\n",
    "        p, c = pc[j]\n",
    "        if (i >> j) & 1:\n",
    "            score += pt[j]\n",
    "            cnt += p\n",
    "        else:\n",
    "            rest_max = j\n",
    "    print(f'{i:2d}',rest_max, score, cnt)\n",
    "    if score < G:\n",
    "        s1 = 100 * (rest_max + 1)\n",
    "        need = (G - score + s1 - 1) // s1\n",
    "        if need >= pc[rest_max][0]:\n",
    "            continue\n",
    "        cnt += need\n",
    "    ans = min(ans, cnt)\n",
    "\n",
    "print(ans)"
   ]
  },
  {
   "cell_type": "code",
   "execution_count": null,
   "metadata": {},
   "outputs": [],
   "source": [
    "pt=[p*(i+1)*100+c for i, (p, c) in enumerate(pc)]\n",
    "ans = 10 ** 9\n",
    "for i in range(2 ** D):                                         #満点をとったレベルの全探索\n",
    "    levs=[j for j in range(D) if i>>j&1==0]                     #満点をとらなかったレベルで構成されたリスト\n",
    "    rest_max=max(levs,default=-1)                               #満点を取ったレベルのうち一番大きなもの\n",
    "    score=sum([p for i, p in enumerate(pt) if i not in levs])   #満点を取ったレベルでの総得点\n",
    "    cnt=sum([p for i, (p, _) in enumerate(pc) if i not in levs])#満点を取ったレベルでの総問題数\n",
    "\n",
    "    if score < G:\n",
    "        s1 = 100 * (rest_max + 1)\n",
    "        need = (G - score + s1 - 1) // s1\n",
    "        if need >= pc[rest_max][0]:\n",
    "            continue\n",
    "        cnt += need\n",
    "    ans = min(ans, cnt)\n",
    "\n",
    "print(ans)"
   ]
  }
 ],
 "metadata": {
  "kernelspec": {
   "display_name": "Python 3",
   "language": "python",
   "name": "python3"
  },
  "language_info": {
   "codemirror_mode": {
    "name": "ipython",
    "version": 3
   },
   "file_extension": ".py",
   "mimetype": "text/x-python",
   "name": "python",
   "nbconvert_exporter": "python",
   "pygments_lexer": "ipython3",
   "version": "3.10.6"
  },
  "orig_nbformat": 4
 },
 "nbformat": 4,
 "nbformat_minor": 2
}
