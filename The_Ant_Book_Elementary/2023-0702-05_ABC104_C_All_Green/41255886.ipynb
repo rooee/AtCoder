{
 "cells": [
  {
   "cell_type": "markdown",
   "metadata": {},
   "source": [
    "#https://atcoder.jp/contests/abc104/submissions/41255886\n",
    "\n",
    "43561653と同様で再帰による全探索か？"
   ]
  },
  {
   "cell_type": "code",
   "execution_count": null,
   "metadata": {},
   "outputs": [],
   "source": [
    "#https://atcoder.jp/contests/abc104/submissions/41255886\n",
    "#original\n",
    "\n",
    "import math\n",
    "def dfs(n,p,num,toita):\n",
    "    if n==D:\n",
    "        if p>=G:\n",
    "            return num\n",
    "        else:\n",
    "            toitenai=set(range(1,D+1))-toita\n",
    "            i=max(toitenai)\n",
    "            t=math.ceil((G-p)/(100*i))\n",
    "            if t<pc[i-1][0]:\n",
    "                num+=t\n",
    "                return num\n",
    "            else:\n",
    "                return float(\"inf\")\n",
    "    else:\n",
    "        return min(dfs(n+1,p,num,toita),dfs(n+1,p+pc[n][0]*100*(n+1)+pc[n][1],num+pc[n][0],toita|{n+1}))\n",
    "\n",
    "\n",
    "D,G=map(int,input().split())\n",
    "pc=[list(map(int,input().split())) for i in range(D)]\n",
    "print(dfs(0,0,0,set()))\n"
   ]
  },
  {
   "cell_type": "code",
   "execution_count": null,
   "metadata": {},
   "outputs": [],
   "source": [
    "D, G = map(int, input().split())\n",
    "pc = [list(map(int, input().split())) for _ in range(D)]"
   ]
  },
  {
   "cell_type": "code",
   "execution_count": null,
   "metadata": {},
   "outputs": [],
   "source": [
    "D, G = 2, 400 \n",
    "pc=\"\"\"\n",
    "3 500\n",
    "5 800\n",
    "\"\"\"\n",
    "pc=[list(map(int, a.split())) for a in pc.split('\\n') if a!='']\n",
    "D,G,pc"
   ]
  },
  {
   "cell_type": "code",
   "execution_count": 5,
   "metadata": {},
   "outputs": [
    {
     "data": {
      "text/plain": [
       "(5, 25000, [[20, 1000], [40, 1000], [50, 1000], [30, 1000], [1, 1000]])"
      ]
     },
     "execution_count": 5,
     "metadata": {},
     "output_type": "execute_result"
    }
   ],
   "source": [
    "D, G = 5, 25000\n",
    "pc = [[20, 1000], [40, 1000], [50, 1000], [30, 1000], [1, 1000]]\n",
    "[p*(i+1)*100+c for i, (p, c) in enumerate(pc)]\n",
    "D,G,pc"
   ]
  },
  {
   "cell_type": "code",
   "execution_count": 2,
   "metadata": {},
   "outputs": [
    {
     "data": {
      "text/plain": [
       "(2, 700, [[3, 500], [5, 800]])"
      ]
     },
     "execution_count": 2,
     "metadata": {},
     "output_type": "execute_result"
    }
   ],
   "source": [
    "D, G = 2, 700\n",
    "pc = [[3, 500], [5, 800]]\n",
    "D,G,pc"
   ]
  },
  {
   "cell_type": "code",
   "execution_count": 6,
   "metadata": {},
   "outputs": [
    {
     "name": "stdout",
     "output_type": "stream",
     "text": [
      "0 0 0 set()\n",
      "1 0 0 set()\n",
      "2 0 0 set()\n",
      "3 0 0 set()\n",
      "4 0 0 set()\n",
      "5 0 0 set()\n",
      "5 1500 1 {5}\n",
      "4 13000 30 {4}\n",
      "5 13000 30 {4}\n",
      "5 14500 31 {4, 5}\n",
      "3 16000 50 {3}\n",
      "4 16000 50 {3}\n",
      "5 16000 50 {3}\n",
      "5 17500 51 {3, 5}\n",
      "4 29000 80 {3, 4}\n",
      "5 29000 80 {3, 4}\n",
      "5 30500 81 {3, 4, 5}\n",
      "2 9000 40 {2}\n",
      "3 9000 40 {2}\n",
      "4 9000 40 {2}\n",
      "5 9000 40 {2}\n",
      "5 10500 41 {2, 5}\n",
      "4 22000 70 {2, 4}\n",
      "5 22000 70 {2, 4}\n",
      "5 23500 71 {2, 4, 5}\n",
      "3 25000 90 {2, 3}\n",
      "4 25000 90 {2, 3}\n",
      "5 25000 90 {2, 3}\n",
      "5 26500 91 {2, 3, 5}\n",
      "4 38000 120 {2, 3, 4}\n",
      "5 38000 120 {2, 3, 4}\n",
      "5 39500 121 {2, 3, 4, 5}\n",
      "1 3000 20 {1}\n",
      "2 3000 20 {1}\n",
      "3 3000 20 {1}\n",
      "4 3000 20 {1}\n",
      "5 3000 20 {1}\n",
      "5 4500 21 {1, 5}\n",
      "4 16000 50 {1, 4}\n",
      "5 16000 50 {1, 4}\n",
      "5 17500 51 {1, 4, 5}\n",
      "3 19000 70 {1, 3}\n",
      "4 19000 70 {1, 3}\n",
      "5 19000 70 {1, 3}\n",
      "5 20500 71 {1, 3, 5}\n",
      "4 32000 100 {1, 3, 4}\n",
      "5 32000 100 {1, 3, 4}\n",
      "5 33500 101 {1, 3, 4, 5}\n",
      "2 12000 60 {1, 2}\n",
      "3 12000 60 {1, 2}\n",
      "4 12000 60 {1, 2}\n",
      "5 12000 60 {1, 2}\n",
      "5 13500 61 {1, 2, 5}\n",
      "4 25000 90 {1, 2, 4}\n",
      "5 25000 90 {1, 2, 4}\n",
      "5 26500 91 {1, 2, 4, 5}\n",
      "3 28000 110 {1, 2, 3}\n",
      "4 28000 110 {1, 2, 3}\n",
      "5 28000 110 {1, 2, 3}\n",
      "5 29500 111 {1, 2, 3, 5}\n",
      "4 41000 140 {1, 2, 3, 4}\n",
      "5 41000 140 {1, 2, 3, 4}\n",
      "5 42500 141 {1, 2, 3, 4, 5}\n",
      "66\n"
     ]
    }
   ],
   "source": [
    "import math\n",
    "def dfs(n,p,num,toita):\n",
    "    print(n,p,num,toita)\n",
    "    if n==D:\n",
    "        if p>=G:\n",
    "            return num\n",
    "        else:\n",
    "            toitenai=set(range(1,D+1))-toita\n",
    "            i=max(toitenai)\n",
    "            t=math.ceil((G-p)/(100*i))\n",
    "            if t<pc[i-1][0]:\n",
    "                num+=t\n",
    "                return num\n",
    "            else:\n",
    "                return float(\"inf\")\n",
    "    else:\n",
    "        return min(dfs(n+1,p,num,toita),\n",
    "                   dfs(n+1,p+pc[n][0]*100*(n+1)+pc[n][1],num+pc[n][0],toita|{n+1}))\n",
    "\n",
    "\n",
    "print(dfs(0,0,0,set()))\n"
   ]
  },
  {
   "cell_type": "code",
   "execution_count": null,
   "metadata": {},
   "outputs": [],
   "source": []
  }
 ],
 "metadata": {
  "kernelspec": {
   "display_name": "Python 3",
   "language": "python",
   "name": "python3"
  },
  "language_info": {
   "codemirror_mode": {
    "name": "ipython",
    "version": 3
   },
   "file_extension": ".py",
   "mimetype": "text/x-python",
   "name": "python",
   "nbconvert_exporter": "python",
   "pygments_lexer": "ipython3",
   "version": "3.10.6"
  },
  "orig_nbformat": 4
 },
 "nbformat": 4,
 "nbformat_minor": 2
}
